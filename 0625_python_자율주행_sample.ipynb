{
  "nbformat": 4,
  "nbformat_minor": 0,
  "metadata": {
    "colab": {
      "provenance": [],
      "gpuType": "T4",
      "authorship_tag": "ABX9TyOQPHrAuF/Kf08B4S+f/MHd",
      "include_colab_link": true
    },
    "kernelspec": {
      "name": "python3",
      "display_name": "Python 3"
    },
    "language_info": {
      "name": "python"
    },
    "accelerator": "GPU"
  },
  "cells": [
    {
      "cell_type": "markdown",
      "metadata": {
        "id": "view-in-github",
        "colab_type": "text"
      },
      "source": [
        "<a href=\"https://colab.research.google.com/github/audalsgh/20250624/blob/main/0625_python_%EC%9E%90%EC%9C%A8%EC%A3%BC%ED%96%89_sample.ipynb\" target=\"_parent\"><img src=\"https://colab.research.google.com/assets/colab-badge.svg\" alt=\"Open In Colab\"/></a>"
      ]
    },
    {
      "cell_type": "markdown",
      "source": [
        "샘플1. 핸들 각도를 조절하는 함수 정의"
      ],
      "metadata": {
        "id": "_UrnQD7JFGJL"
      }
    },
    {
      "cell_type": "code",
      "execution_count": 26,
      "metadata": {
        "id": "oefhvbZRFAGl"
      },
      "outputs": [],
      "source": [
        "def handle_right_turn():\n",
        "  angle += 10\n",
        "def handle_left_turn():\n",
        "  angle -= 10"
      ]
    },
    {
      "cell_type": "markdown",
      "source": [
        "샘플2. 좌측, 우측 차선이 이탈되는게 감지되면, 반대로 핸들을 꺾는 함수를 호출한다"
      ],
      "metadata": {
        "id": "AikwBJ4lFICd"
      }
    },
    {
      "cell_type": "code",
      "source": [
        "def left_line_detected(detecting):\n",
        "  if (detecting == True):\n",
        "    handle_right_turn()\n",
        "\n",
        "def right_line_detected(detecting):\n",
        "  if (detecting == True):\n",
        "    handle_left_turn()"
      ],
      "metadata": {
        "id": "K_I8ABrkFINE"
      },
      "execution_count": 27,
      "outputs": []
    },
    {
      "cell_type": "markdown",
      "source": [
        "샘플3. 가속, 감속 함수 정의."
      ],
      "metadata": {
        "id": "7elK9qosFIWe"
      }
    },
    {
      "cell_type": "code",
      "source": [
        "speed = 0\n",
        "\n",
        "def acceleration():\n",
        "  global speed\n",
        "  speed += 1\n",
        "def breaking():\n",
        "  global speed\n",
        "  speed -= 1"
      ],
      "metadata": {
        "id": "Rlr6G5Q6FIoh"
      },
      "execution_count": 28,
      "outputs": []
    },
    {
      "cell_type": "markdown",
      "source": [
        "샘플4. 라이다 센서로 장애물이 가까운 위치라고 판단되면, 감속 함수 호출."
      ],
      "metadata": {
        "id": "UlPXcIHIFIyN"
      }
    },
    {
      "cell_type": "code",
      "source": [
        "def obstacle_dodge(lidar_data):\n",
        "  if (lidar_data < 10):\n",
        "    print(\"장애물과 너무 가깝습니다. 급정거합니다\")\n",
        "    breaking()\n",
        "  elif (lidar_data < 30):\n",
        "    print(\"장애물이 발견되었습니다. 주의하세요\")"
      ],
      "metadata": {
        "id": "sreklmt2FJFC"
      },
      "execution_count": 29,
      "outputs": []
    },
    {
      "cell_type": "markdown",
      "source": [
        "샘플5. 신호등 색을 감지하여, 출발과 정지를 결정하는 함수 정의."
      ],
      "metadata": {
        "id": "xgsu8GECFJMV"
      }
    },
    {
      "cell_type": "code",
      "source": [
        "def traffic_lights_detect(cam_data):\n",
        "  if (cam_data == \"빨간불\"):\n",
        "    print(\"빨간불이니 정지합니다\")\n",
        "    for i in range(10):\n",
        "      breaking()\n",
        "  if (cam_data == \"초록불\"):\n",
        "    print(\"초록불이니 출발합니다\")\n",
        "    for i in range(10):\n",
        "      acceleration()"
      ],
      "metadata": {
        "id": "viEOgR6OFJYJ"
      },
      "execution_count": 30,
      "outputs": []
    },
    {
      "cell_type": "markdown",
      "source": [
        "샘플6. 속도를 입력받아 과속을 검사하는 if문, 클래스 코드 샘플"
      ],
      "metadata": {
        "id": "Pq723KFPFJfX"
      }
    },
    {
      "cell_type": "code",
      "source": [
        "class SpeedMonitor:\n",
        "    def __init__(self, speed_limit=60):\n",
        "        self.speed_limit = speed_limit\n",
        "\n",
        "    def check_speed(self, current_speed):\n",
        "        if (current_speed > self.speed_limit):\n",
        "            return \"과속중입니다. 속도를 줄입니다\"\n",
        "        elif (current_speed == self.speed_limit):\n",
        "            return \"제한 속도입니다. 속도를 줄이세요\"\n",
        "        else:\n",
        "            return \"안전 속도입니다.\"\n",
        "\n",
        "if __name__ == \"__main__\":\n",
        "    monitor = SpeedMonitor()  # SpeedMonitor 클래스의 객체인 monior라는 변수 정의.\n",
        "    current_speed = int(input(\"현재 속도를 입력하세요 (km/h): \"))\n",
        "    message = monitor.check_speed(current_speed)\n",
        "    print(message)"
      ],
      "metadata": {
        "colab": {
          "base_uri": "https://localhost:8080/"
        },
        "id": "lDOwFUtGFKHF",
        "outputId": "837d31b3-3b3c-40bb-86cd-b1ce5af6e7fd"
      },
      "execution_count": 31,
      "outputs": [
        {
          "output_type": "stream",
          "name": "stdout",
          "text": [
            "현재 속도를 입력하세요 (km/h): 80\n",
            "과속중입니다. 속도를 줄입니다\n"
          ]
        }
      ]
    },
    {
      "cell_type": "markdown",
      "source": [
        "샘플7. vehicle 클래스는 속도 데이터를 갖는다. car1 객체를 만들어 속도가 변하도록 했다"
      ],
      "metadata": {
        "id": "XBq5I9JHFKdY"
      }
    },
    {
      "cell_type": "code",
      "source": [
        "class vehicle:\n",
        "  def __init__(self, speed=0):\n",
        "    self.speed = speed\n",
        "\n",
        "lidar_data = 30\n",
        "cam_data = \"초록불\"\n",
        "\n",
        "car1 = vehicle()\n",
        "car1.speed = obstacle_dodge(lidar_data)\n",
        "car1.speed = traffic_lights_detect(cam_data)"
      ],
      "metadata": {
        "colab": {
          "base_uri": "https://localhost:8080/"
        },
        "id": "bAeMNFU7FKqV",
        "outputId": "40629170-4977-4a7d-bd88-27ec4492d55f"
      },
      "execution_count": 32,
      "outputs": [
        {
          "output_type": "stream",
          "name": "stdout",
          "text": [
            "초록불이니 출발합니다\n"
          ]
        }
      ]
    },
    {
      "cell_type": "markdown",
      "source": [
        "샘플8. 주행중 차선 중앙에 맞춰지도록 하는 클래스 샘플"
      ],
      "metadata": {
        "id": "b69sUJtNFKyZ"
      }
    },
    {
      "cell_type": "code",
      "source": [
        "class LaneKeeping:\n",
        "    def __init__(self, center_threshold=0.1):\n",
        "        # 편차가 ±0.1 이내면 중앙 유지\n",
        "        self.threshold = center_threshold\n",
        "        self.offset = 0.0\n",
        "\n",
        "    def update_offset(self, offset):\n",
        "        # offset >0: 오른쪽으로 치우침, <0: 왼쪽으로 치우침\n",
        "        self.offset = offset\n",
        "        if self.offset > self.threshold:\n",
        "            print(\"좌측 조향: 차선 중앙으로 이동\")\n",
        "        elif self.offset < -self.threshold:\n",
        "            print(\"우측 조향: 차선 중앙으로 이동\")\n",
        "        else:\n",
        "            print(\"직진 유지: 차선 중앙에 위치\")\n",
        "\n",
        "lk = LaneKeeping()\n",
        "lk.update_offset(0.15)   # 오른쪽 치우침 → 좌측 조향\n",
        "lk.update_offset(-0.2)   # 왼쪽 치우침 → 우측 조향\n",
        "lk.update_offset(0.05)   # 중앙 유지"
      ],
      "metadata": {
        "colab": {
          "base_uri": "https://localhost:8080/"
        },
        "id": "RwRaog4HFLB2",
        "outputId": "70f23105-bdb4-4186-bf3f-e58b84909f3f"
      },
      "execution_count": 33,
      "outputs": [
        {
          "output_type": "stream",
          "name": "stdout",
          "text": [
            "좌측 조향: 차선 중앙으로 이동\n",
            "우측 조향: 차선 중앙으로 이동\n",
            "직진 유지: 차선 중앙에 위치\n"
          ]
        }
      ]
    },
    {
      "cell_type": "markdown",
      "source": [
        "샘플9. 장애물 감지 시스템을 클래스로 구현해보기."
      ],
      "metadata": {
        "id": "ny88OALqFLKe"
      }
    },
    {
      "cell_type": "code",
      "source": [
        "class ObstacleAvoidance:\n",
        "    def __init__(self, safe_distance=20):\n",
        "        # cm 단위 안전 거리\n",
        "        self.safe_distance = safe_distance\n",
        "\n",
        "    def analyze(self, front_dist, left_dist, right_dist):\n",
        "        # front_dist: 전방 장애물 거리\n",
        "        if front_dist < self.safe_distance:\n",
        "            # 전방 막히면 좌우 중 더 넓은 쪽으로 회피\n",
        "            if left_dist > right_dist:\n",
        "                print(\"좌측 회피: 왼쪽으로 우회합니다\")\n",
        "            else:\n",
        "                print(\"우측 회피: 오른쪽으로 우회합니다\")\n",
        "        else:\n",
        "            print(\"전방 클리어: 직진\")\n",
        "\n",
        "oa = ObstacleAvoidance()\n",
        "oa.analyze(front_dist=15, left_dist=30, right_dist=10)  # 전방 가까움 → 좌측 회피\n",
        "oa.analyze(front_dist=25, left_dist=5,  right_dist=5)   # 전방 클리어 → 직진"
      ],
      "metadata": {
        "colab": {
          "base_uri": "https://localhost:8080/"
        },
        "id": "VAHWtE8oFLY3",
        "outputId": "e5441486-37bb-4a1d-f3de-ae2ec9ec59ed"
      },
      "execution_count": 34,
      "outputs": [
        {
          "output_type": "stream",
          "name": "stdout",
          "text": [
            "좌측 회피: 왼쪽으로 우회합니다\n",
            "전방 클리어: 직진\n"
          ]
        }
      ]
    },
    {
      "cell_type": "markdown",
      "source": [
        "샘플10. 미리 정의한 웨이포인트 목록을 관리하며, 다음 웨이포인트까지 진행상태를 출력하는 클래스 샘플"
      ],
      "metadata": {
        "id": "TMJKJyP6Fgmb"
      }
    },
    {
      "cell_type": "code",
      "source": [
        "class RoutePlanner:\n",
        "    def __init__(self, waypoints):\n",
        "        # waypoints: [(x1,y1), (x2,y2), ...]\n",
        "        self.waypoints = waypoints\n",
        "        self.current_index = 0\n",
        "\n",
        "    def get_current(self):\n",
        "        return self.waypoints[self.current_index]\n",
        "\n",
        "    def advance(self):\n",
        "        if self.current_index < len(self.waypoints) - 1:\n",
        "            self.current_index += 1\n",
        "            print(f\"다음 웨이포인트로 이동: {self.get_current()}\")\n",
        "        else:\n",
        "            print(\"최종 목적지에 도달했습니다\")\n",
        "\n",
        "wps = [(0,0), (10,5), (20,15)]\n",
        "rp = RoutePlanner(wps)\n",
        "print(\"현재 목표:\", rp.get_current())  # (0,0)\n",
        "rp.advance()                           # (10,5)\n",
        "rp.advance()                           # (20,15)\n",
        "rp.advance()                           # 최종 도달"
      ],
      "metadata": {
        "colab": {
          "base_uri": "https://localhost:8080/"
        },
        "id": "auK9UfSKFh94",
        "outputId": "a2d55e09-c186-4945-9480-ed82245a2ec9"
      },
      "execution_count": 35,
      "outputs": [
        {
          "output_type": "stream",
          "name": "stdout",
          "text": [
            "현재 목표: (0, 0)\n",
            "다음 웨이포인트로 이동: (10, 5)\n",
            "다음 웨이포인트로 이동: (20, 15)\n",
            "최종 목적지에 도달했습니다\n"
          ]
        }
      ]
    }
  ]
}