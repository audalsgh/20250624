{
  "nbformat": 4,
  "nbformat_minor": 0,
  "metadata": {
    "colab": {
      "provenance": [],
      "gpuType": "T4",
      "authorship_tag": "ABX9TyOYS4ZAgKSZBCCcweBKDjhC",
      "include_colab_link": true
    },
    "kernelspec": {
      "name": "python3",
      "display_name": "Python 3"
    },
    "language_info": {
      "name": "python"
    },
    "accelerator": "GPU"
  },
  "cells": [
    {
      "cell_type": "markdown",
      "metadata": {
        "id": "view-in-github",
        "colab_type": "text"
      },
      "source": [
        "<a href=\"https://colab.research.google.com/github/audalsgh/20250624/blob/main/0625_python_define%26class.ipynb\" target=\"_parent\"><img src=\"https://colab.research.google.com/assets/colab-badge.svg\" alt=\"Open In Colab\"/></a>"
      ]
    },
    {
      "cell_type": "markdown",
      "source": [
        "def 문법: 으로 함수정의, 호출하는 모습"
      ],
      "metadata": {
        "id": "q5qy7kDgmWLt"
      }
    },
    {
      "cell_type": "code",
      "source": [
        "def my_function():\n",
        "  print(\"Hello from a function\")\n",
        "\n",
        "my_function()"
      ],
      "metadata": {
        "colab": {
          "base_uri": "https://localhost:8080/"
        },
        "id": "0qZyG9oImULK",
        "outputId": "28022da2-bcf8-44c1-ee3e-c32c7f1b3a08"
      },
      "execution_count": 79,
      "outputs": [
        {
          "output_type": "stream",
          "name": "stdout",
          "text": [
            "Hello from a function\n"
          ]
        }
      ]
    },
    {
      "cell_type": "markdown",
      "source": [
        "\"string 인자\"를 받아서 뒤에 Refsnes 라는 말을 붙힌뒤 출력하는 함수"
      ],
      "metadata": {
        "id": "hplpUAXRmddh"
      }
    },
    {
      "cell_type": "code",
      "source": [
        "def my_function(fname):\n",
        "  print(fname + \" Refsnes\")\n",
        "\n",
        "my_function(\"Emil\")\n",
        "my_function(\"Tobias\")\n",
        "my_function(\"Linus\")"
      ],
      "metadata": {
        "colab": {
          "base_uri": "https://localhost:8080/"
        },
        "id": "fJD670Bomcrv",
        "outputId": "28d4b7c7-a32c-43ac-c997-39d8be9590ca"
      },
      "execution_count": 80,
      "outputs": [
        {
          "output_type": "stream",
          "name": "stdout",
          "text": [
            "Emil Refsnes\n",
            "Tobias Refsnes\n",
            "Linus Refsnes\n"
          ]
        }
      ]
    },
    {
      "cell_type": "markdown",
      "source": [
        "\"string 인자\" 2개를 받아서, 비슷한 기능을 하는 함수. *인자 2개를 맞춰서 넘기지 않으면 오류이다!"
      ],
      "metadata": {
        "id": "h7GP6mDYm3mG"
      }
    },
    {
      "cell_type": "code",
      "source": [
        "def my_function(fname, lname):\n",
        "  print(fname + \" \" + lname)\n",
        "\n",
        "my_function(\"Emil\", \"Refsnes\")"
      ],
      "metadata": {
        "colab": {
          "base_uri": "https://localhost:8080/"
        },
        "id": "sW5xjpUqm1vF",
        "outputId": "bd92ad28-c76c-4c71-e2e1-5d03e39311d6"
      },
      "execution_count": 81,
      "outputs": [
        {
          "output_type": "stream",
          "name": "stdout",
          "text": [
            "Emil Refsnes\n"
          ]
        }
      ]
    },
    {
      "cell_type": "markdown",
      "source": [
        "인자 갯수를 정의하지 못하겠으면, *를 파라미터앞에 붙힌다"
      ],
      "metadata": {
        "id": "f_T8qL7ZnLNU"
      }
    },
    {
      "cell_type": "code",
      "source": [
        "def my_function(*kids):\n",
        "  print(\"The youngest child is \" + kids[2])\n",
        "\n",
        "my_function(\"Emil\", \"Tobias\", \"Linus\")"
      ],
      "metadata": {
        "colab": {
          "base_uri": "https://localhost:8080/"
        },
        "id": "oGXTOU3OnDyU",
        "outputId": "4437f484-4c4b-431e-9dbd-cc8a51c3d5e9"
      },
      "execution_count": 82,
      "outputs": [
        {
          "output_type": "stream",
          "name": "stdout",
          "text": [
            "The youngest child is Linus\n"
          ]
        }
      ]
    },
    {
      "cell_type": "markdown",
      "source": [
        "인자를 꼭 순서에 맞춰 넘겨줄 필요는 없고, (파라미터3 = \"\") 순서를 지정해줄수있다."
      ],
      "metadata": {
        "id": "lJsL9C2onXcZ"
      }
    },
    {
      "cell_type": "code",
      "source": [
        "def my_function(child3, child2, child1):\n",
        "  print(\"The youngest child is \" + child3)\n",
        "\n",
        "my_function(child1 = \"Emil\", child2 = \"Tobias\", child3 = \"Linus\")"
      ],
      "metadata": {
        "colab": {
          "base_uri": "https://localhost:8080/"
        },
        "id": "4glkX2W_nVlA",
        "outputId": "5764c025-f4f7-4385-eb90-1474a04b9cbb"
      },
      "execution_count": 83,
      "outputs": [
        {
          "output_type": "stream",
          "name": "stdout",
          "text": [
            "The youngest child is Linus\n"
          ]
        }
      ]
    },
    {
      "cell_type": "markdown",
      "source": [
        "인자가 몇개 넘어왔는지 모르겠으면, **를 파라미터 앞에 붙힌다"
      ],
      "metadata": {
        "id": "QHMJiQ6Gnq5T"
      }
    },
    {
      "cell_type": "code",
      "source": [
        "def my_function(**kid):\n",
        "  print(\"His last name is \" + kid[\"lname\"])\n",
        "\n",
        "my_function(fname = \"Tobias\", lname = \"Refsnes\")"
      ],
      "metadata": {
        "colab": {
          "base_uri": "https://localhost:8080/"
        },
        "id": "HsQMFtuSno0H",
        "outputId": "7273c460-e99b-4c35-a7e2-a512893eebf0"
      },
      "execution_count": 84,
      "outputs": [
        {
          "output_type": "stream",
          "name": "stdout",
          "text": [
            "His last name is Refsnes\n"
          ]
        }
      ]
    },
    {
      "cell_type": "markdown",
      "source": [
        "아무 인자도 들어오지 않았을때에도 작동하게 하려면 default 값을 파라미터에 정의해준다."
      ],
      "metadata": {
        "id": "CthYypFnoAyt"
      }
    },
    {
      "cell_type": "code",
      "source": [
        "def my_function(country = \"Norway\"):\n",
        "  print(\"I am from \" + country)\n",
        "\n",
        "my_function(\"Sweden\")\n",
        "my_function(\"India\")\n",
        "my_function()\n",
        "my_function(\"Brazil\")"
      ],
      "metadata": {
        "colab": {
          "base_uri": "https://localhost:8080/"
        },
        "id": "f0g4cHiin-e9",
        "outputId": "91e36179-333e-48c6-bde8-d609049ac467"
      },
      "execution_count": 85,
      "outputs": [
        {
          "output_type": "stream",
          "name": "stdout",
          "text": [
            "I am from Sweden\n",
            "I am from India\n",
            "I am from Norway\n",
            "I am from Brazil\n"
          ]
        }
      ]
    },
    {
      "cell_type": "markdown",
      "source": [
        "x라는 string 리스트를 인자로 받아, 인자 리스트만큼 반복하며 값을 출력하는 함수."
      ],
      "metadata": {
        "id": "34wiQb0voU87"
      }
    },
    {
      "cell_type": "code",
      "source": [
        "def my_function(food):\n",
        "  for x in food:\n",
        "    print(x)\n",
        "\n",
        "fruits = [\"apple\", \"banana\", \"cherry\"]\n",
        "\n",
        "my_function(fruits)"
      ],
      "metadata": {
        "colab": {
          "base_uri": "https://localhost:8080/"
        },
        "id": "sC-03v_QoS08",
        "outputId": "c14592dc-4602-4b5a-a326-c19c6b019b3b"
      },
      "execution_count": 86,
      "outputs": [
        {
          "output_type": "stream",
          "name": "stdout",
          "text": [
            "apple\n",
            "banana\n",
            "cherry\n"
          ]
        }
      ]
    },
    {
      "cell_type": "markdown",
      "source": [
        "입력되는 인자에 5를 곱해주는 함수"
      ],
      "metadata": {
        "id": "3OuatCOQo01v"
      }
    },
    {
      "cell_type": "code",
      "source": [
        "def my_function(x):\n",
        "  return 5 * x\n",
        "\n",
        "print(my_function(3))\n",
        "print(my_function(5))\n",
        "print(my_function(9))"
      ],
      "metadata": {
        "colab": {
          "base_uri": "https://localhost:8080/"
        },
        "id": "UHKv6ALmo0KD",
        "outputId": "429f12f7-5da5-45e5-9a24-90cfb53f7a17"
      },
      "execution_count": 87,
      "outputs": [
        {
          "output_type": "stream",
          "name": "stdout",
          "text": [
            "15\n",
            "25\n",
            "45\n"
          ]
        }
      ]
    },
    {
      "cell_type": "markdown",
      "source": [
        "내용이 텅빈 함수를 정의하고싶으면 pass라고 채워준다."
      ],
      "metadata": {
        "id": "1ujb-yf-o6w7"
      }
    },
    {
      "cell_type": "code",
      "source": [
        "def myfunction():\n",
        "  pass"
      ],
      "metadata": {
        "id": "BCfSOMWDo5B7"
      },
      "execution_count": 88,
      "outputs": []
    },
    {
      "cell_type": "markdown",
      "source": [
        "함수 호출시, (파라미터 이름 = 7) 등의 키워드 인수로 줄수없도록 슬래쉬 / 왼쪽에는 제한된다.\n",
        "*오른쪽으로는 오직 키워드 인수로만 가능하게 제한한다.\n",
        "/와 *사이의 y 파라미터는 둘다 가능하다!"
      ],
      "metadata": {
        "id": "QbLkAgg1pAoe"
      }
    },
    {
      "cell_type": "code",
      "source": [
        "def my_function(x, /, y, *, z):\n",
        "  print(x,y,z)\n",
        "\n",
        "my_function(3,2,z=1)"
      ],
      "metadata": {
        "colab": {
          "base_uri": "https://localhost:8080/"
        },
        "id": "qYFIYAVAo9ee",
        "outputId": "8678046a-788c-4e81-ceb2-f084f435dbb2"
      },
      "execution_count": 89,
      "outputs": [
        {
          "output_type": "stream",
          "name": "stdout",
          "text": [
            "3 2 1\n"
          ]
        }
      ]
    },
    {
      "cell_type": "markdown",
      "source": [
        "k=6 부터 출발하는 재귀함수, 결국 첫 결과인 1을 출력하기위해 7번 호출되어야한다."
      ],
      "metadata": {
        "id": "y8ER__sZqZGA"
      }
    },
    {
      "cell_type": "code",
      "source": [
        "def tri_recursion(k):\n",
        "  if(k > 0):\n",
        "    result = k + tri_recursion(k - 1)\n",
        "    print(result)\n",
        "  else:\n",
        "    result = 0\n",
        "  return result\n",
        "\n",
        "print(\"Recursion Example Results:\")\n",
        "tri_recursion(6)"
      ],
      "metadata": {
        "colab": {
          "base_uri": "https://localhost:8080/"
        },
        "id": "iHrkGVWnqYLV",
        "outputId": "f48f93bd-d5ea-4945-897c-8e7c8d012b61"
      },
      "execution_count": 90,
      "outputs": [
        {
          "output_type": "stream",
          "name": "stdout",
          "text": [
            "Recursion Example Results:\n",
            "1\n",
            "3\n",
            "6\n",
            "10\n",
            "15\n",
            "21\n"
          ]
        },
        {
          "output_type": "execute_result",
          "data": {
            "text/plain": [
              "21"
            ]
          },
          "metadata": {},
          "execution_count": 90
        }
      ]
    },
    {
      "cell_type": "markdown",
      "source": [
        "------------------------------------------------------------------------"
      ],
      "metadata": {
        "id": "maQ-k308qaoe"
      }
    },
    {
      "cell_type": "markdown",
      "source": [
        "클래스 정의, 접근은 (클래스이름.클래스변수) 쩜으로 접근가능"
      ],
      "metadata": {
        "id": "XT7n1VPfjB44"
      }
    },
    {
      "cell_type": "code",
      "execution_count": 91,
      "metadata": {
        "id": "NZ7xwGCgggfx"
      },
      "outputs": [],
      "source": [
        "class MyClass:\n",
        "  x = 5"
      ]
    },
    {
      "cell_type": "code",
      "source": [
        "p1 = MyClass()\n",
        "print(p1.x)"
      ],
      "metadata": {
        "colab": {
          "base_uri": "https://localhost:8080/"
        },
        "id": "bJsslxxujUz4",
        "outputId": "bcdf11c4-e83d-4f47-df90-8761523f1279"
      },
      "execution_count": 92,
      "outputs": [
        {
          "output_type": "stream",
          "name": "stdout",
          "text": [
            "5\n"
          ]
        }
      ]
    },
    {
      "cell_type": "markdown",
      "source": [
        "Person이라는 클래스안에, __init__()함수를 정의했다. 함수내부에서는 자기자신의 이름과 나이 정보가 있다."
      ],
      "metadata": {
        "id": "UVUOSYXIjuHk"
      }
    },
    {
      "cell_type": "code",
      "source": [
        "class Person:\n",
        "  def __init__(self, name, age):\n",
        "    self.name = name\n",
        "    self.age = age\n",
        "\n",
        "p1 = Person(\"John\", 36)\n",
        "\n",
        "print(p1.name)\n",
        "print(p1.age)"
      ],
      "metadata": {
        "colab": {
          "base_uri": "https://localhost:8080/"
        },
        "id": "KND3IRAajfg4",
        "outputId": "88d61cdd-7610-40f4-bce7-b9bb925ffe90"
      },
      "execution_count": 93,
      "outputs": [
        {
          "output_type": "stream",
          "name": "stdout",
          "text": [
            "John\n",
            "36\n"
          ]
        }
      ]
    },
    {
      "cell_type": "markdown",
      "source": [
        "그냥 클래스 객체만 출력하면 원하는 결과를 얻지못함. p1.name 으로 클래스 오브젝트에 접근해야함"
      ],
      "metadata": {
        "id": "qWMUSyONkMoH"
      }
    },
    {
      "cell_type": "code",
      "source": [
        "class Person:\n",
        "  def __init__(self, name, age):\n",
        "    self.name = name\n",
        "    self.age = age\n",
        "\n",
        "p1 = Person(\"John\", 36)\n",
        "\n",
        "print(p1)"
      ],
      "metadata": {
        "colab": {
          "base_uri": "https://localhost:8080/"
        },
        "id": "XS1frLpOkAUT",
        "outputId": "d2c27cb2-8fe2-4f20-bc99-4c7a61c40ce2"
      },
      "execution_count": 94,
      "outputs": [
        {
          "output_type": "stream",
          "name": "stdout",
          "text": [
            "<__main__.Person object at 0x78a731047f90>\n"
          ]
        }
      ]
    },
    {
      "cell_type": "markdown",
      "source": [
        "아예 클래스 내부에서 f-string \"{}\" 으로 클래스 오브젝트에 접근하는 함수까지 만들었다"
      ],
      "metadata": {
        "id": "HOvGjn33kcwY"
      }
    },
    {
      "cell_type": "code",
      "source": [
        "class Person:\n",
        "  def __init__(self, name, age):\n",
        "    self.name = name\n",
        "    self.age = age\n",
        "\n",
        "  def __str__(self):\n",
        "    return f\"{self.name}({self.age})\"\n",
        "\n",
        "p1 = Person(\"John\", 36)\n",
        "\n",
        "print(p1)"
      ],
      "metadata": {
        "colab": {
          "base_uri": "https://localhost:8080/"
        },
        "id": "Yyn4-iU_kWTy",
        "outputId": "b870bffa-f551-4ce5-a0ae-e5809d24fc2b"
      },
      "execution_count": 95,
      "outputs": [
        {
          "output_type": "stream",
          "name": "stdout",
          "text": [
            "John(36)\n"
          ]
        }
      ]
    },
    {
      "cell_type": "markdown",
      "source": [
        "매개변수이름이 self 라서, p1인자가 self자리로 들어가는 것. 클래스 오브젝트에 접근하는 방식은 쩜으로 똑같다"
      ],
      "metadata": {
        "id": "xbPiaWXFktWs"
      }
    },
    {
      "cell_type": "code",
      "source": [
        "class Person:\n",
        "  def __init__(self, name, age):\n",
        "    self.name = name\n",
        "    self.age = age\n",
        "\n",
        "  def myfunc(self):\n",
        "    print(\"Hello my name is \" + self.name)\n",
        "\n",
        "p1 = Person(\"John\", 36)\n",
        "p1.myfunc()"
      ],
      "metadata": {
        "colab": {
          "base_uri": "https://localhost:8080/"
        },
        "id": "vf4qfbNrkrB5",
        "outputId": "f1e921b9-3539-4d30-9b0c-38f102cf4f2d"
      },
      "execution_count": 96,
      "outputs": [
        {
          "output_type": "stream",
          "name": "stdout",
          "text": [
            "Hello my name is John\n"
          ]
        }
      ]
    },
    {
      "cell_type": "markdown",
      "source": [
        "위의 코드에서 출력해주는 함수의 매개변수를 다르게 주었다. 그래도 같은 클래스이므로 p1 인자를 동일하게 사용한다"
      ],
      "metadata": {
        "id": "bw-vke5dlXWP"
      }
    },
    {
      "cell_type": "code",
      "source": [
        "class Person:\n",
        "  def __init__(mysillyobject, name, age):\n",
        "    mysillyobject.name = name\n",
        "    mysillyobject.age = age\n",
        "\n",
        "  def myfunc(abc):\n",
        "    print(\"Hello my name is \" + abc.name)\n",
        "\n",
        "p1 = Person(\"John\", 36)\n",
        "p1.myfunc()"
      ],
      "metadata": {
        "colab": {
          "base_uri": "https://localhost:8080/"
        },
        "id": "y4ffgrWrlVAM",
        "outputId": "150a1baf-7f60-40d7-92a1-0a0b2a12e14e"
      },
      "execution_count": 97,
      "outputs": [
        {
          "output_type": "stream",
          "name": "stdout",
          "text": [
            "Hello my name is John\n"
          ]
        }
      ]
    },
    {
      "cell_type": "markdown",
      "source": [
        "클래스 접근법은 p1.age 이고, del 명령어로 \"클래스 객체\"를 삭제할수있다."
      ],
      "metadata": {
        "id": "QtlbgoeUmJBf"
      }
    },
    {
      "cell_type": "code",
      "source": [
        "p1.age = 40"
      ],
      "metadata": {
        "id": "8PKv4VADlu5N"
      },
      "execution_count": 98,
      "outputs": []
    },
    {
      "cell_type": "code",
      "source": [
        "del p1.age"
      ],
      "metadata": {
        "id": "Vze1H_1OlxYJ"
      },
      "execution_count": 99,
      "outputs": []
    },
    {
      "cell_type": "code",
      "source": [
        "del p1"
      ],
      "metadata": {
        "id": "Mqztpe6fly_H"
      },
      "execution_count": 100,
      "outputs": []
    },
    {
      "cell_type": "markdown",
      "source": [
        "빈 클래스를 만들고싶으면 내용을 pass 로 채우면된다."
      ],
      "metadata": {
        "id": "RC5h6oOWmCXv"
      }
    },
    {
      "cell_type": "code",
      "source": [
        "class Person:\n",
        "  pass"
      ],
      "metadata": {
        "id": "KFJeV60Il5Zz"
      },
      "execution_count": 101,
      "outputs": []
    }
  ]
}