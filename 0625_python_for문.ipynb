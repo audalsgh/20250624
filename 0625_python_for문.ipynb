{
  "nbformat": 4,
  "nbformat_minor": 0,
  "metadata": {
    "colab": {
      "provenance": [],
      "authorship_tag": "ABX9TyMe6Q7yyPBcPgfnCWydTqvy",
      "include_colab_link": true
    },
    "kernelspec": {
      "name": "python3",
      "display_name": "Python 3"
    },
    "language_info": {
      "name": "python"
    }
  },
  "cells": [
    {
      "cell_type": "markdown",
      "metadata": {
        "id": "view-in-github",
        "colab_type": "text"
      },
      "source": [
        "<a href=\"https://colab.research.google.com/github/audalsgh/20250624/blob/main/0625_python_for%EB%AC%B8.ipynb\" target=\"_parent\"><img src=\"https://colab.research.google.com/assets/colab-badge.svg\" alt=\"Open In Colab\"/></a>"
      ]
    },
    {
      "cell_type": "markdown",
      "source": [
        "과일 리스트 길이만큼 반복하여, i = \"apple\", i = \"banana\", i = \"cherry\" 순으로 값이 변한다."
      ],
      "metadata": {
        "id": "CvcBw1x24lfk"
      }
    },
    {
      "cell_type": "code",
      "execution_count": 2,
      "metadata": {
        "colab": {
          "base_uri": "https://localhost:8080/"
        },
        "id": "HY8csA7430Uo",
        "outputId": "dbba9a52-5aa5-40b5-f71d-06acc9e9d720"
      },
      "outputs": [
        {
          "output_type": "stream",
          "name": "stdout",
          "text": [
            "apple\n",
            "banana\n",
            "cherry\n"
          ]
        }
      ],
      "source": [
        "fruits = [\"apple\",\"banana\",\"cherry\"]\n",
        "for i in fruits:\n",
        "  print(i)"
      ]
    },
    {
      "cell_type": "markdown",
      "source": [
        "문자열에 대해 for문을 사용하면, 문자 하나하나에 대하여 출력한다."
      ],
      "metadata": {
        "id": "SrM7i3Ap43qY"
      }
    },
    {
      "cell_type": "code",
      "source": [
        "for i in \"banana\":\n",
        "  print(i)"
      ],
      "metadata": {
        "colab": {
          "base_uri": "https://localhost:8080/"
        },
        "id": "4LKUgP1b4yUI",
        "outputId": "1db93435-b2b3-4558-bd1d-573a27429189"
      },
      "execution_count": 4,
      "outputs": [
        {
          "output_type": "stream",
          "name": "stdout",
          "text": [
            "b\n",
            "a\n",
            "n\n",
            "a\n",
            "n\n",
            "a\n"
          ]
        }
      ]
    },
    {
      "cell_type": "markdown",
      "source": [
        "for문을 중단시키기 위해, if문으로 break를 걸었다."
      ],
      "metadata": {
        "id": "1efxPNS55BUD"
      }
    },
    {
      "cell_type": "code",
      "source": [
        "fruits = [\"apple\", \"banana\", \"cherry\"]\n",
        "for i in fruits:\n",
        "  print(i)\n",
        "  if i == \"banana\":\n",
        "    break"
      ],
      "metadata": {
        "colab": {
          "base_uri": "https://localhost:8080/"
        },
        "id": "mkcfk2JA4-Ff",
        "outputId": "d7293c6e-2903-417b-8b01-58a0dcc4d480"
      },
      "execution_count": 6,
      "outputs": [
        {
          "output_type": "stream",
          "name": "stdout",
          "text": [
            "apple\n",
            "banana\n"
          ]
        }
      ]
    },
    {
      "cell_type": "markdown",
      "source": [
        "if문을 위로 올려서, \"banana\"에 걸치면 바로 탈출하게 했다."
      ],
      "metadata": {
        "id": "FDNQ0zVQ5TfM"
      }
    },
    {
      "cell_type": "code",
      "source": [
        "fruits = [\"apple\", \"banana\", \"cherry\"]\n",
        "for i in fruits:\n",
        "  if i == \"banana\":\n",
        "    break\n",
        "  print(i)"
      ],
      "metadata": {
        "colab": {
          "base_uri": "https://localhost:8080/"
        },
        "id": "ynRK5_cQ5ILW",
        "outputId": "bc813292-e775-41be-8c7a-aa5d5b1a4466"
      },
      "execution_count": 8,
      "outputs": [
        {
          "output_type": "stream",
          "name": "stdout",
          "text": [
            "apple\n"
          ]
        }
      ]
    },
    {
      "cell_type": "markdown",
      "source": [
        "continue 를 만나면, 아래로 진행하는게 아니라 다시 for문으로 돌아와 반복한다"
      ],
      "metadata": {
        "id": "1SFqKRnl5nSa"
      }
    },
    {
      "cell_type": "code",
      "source": [
        "fruits = [\"apple\", \"banana\", \"cherry\"]\n",
        "for i in fruits:\n",
        "  if i == \"banana\":\n",
        "    continue\n",
        "  print(i)"
      ],
      "metadata": {
        "colab": {
          "base_uri": "https://localhost:8080/"
        },
        "id": "ktydFr2s5faO",
        "outputId": "90042314-7c26-4e8e-a0f2-a4f4c45ca413"
      },
      "execution_count": 10,
      "outputs": [
        {
          "output_type": "stream",
          "name": "stdout",
          "text": [
            "apple\n",
            "cherry\n"
          ]
        }
      ]
    },
    {
      "cell_type": "markdown",
      "source": [
        "range() 함수는 0부터 1씩 증가하는 숫자를 반환한다."
      ],
      "metadata": {
        "id": "mR2hntAL559F"
      }
    },
    {
      "cell_type": "code",
      "source": [
        "for i in range(6):\n",
        "  print(i)"
      ],
      "metadata": {
        "colab": {
          "base_uri": "https://localhost:8080/"
        },
        "id": "W2RQg3zw5xlz",
        "outputId": "8ed88656-8a8b-4b90-9af1-013b8f3904fe"
      },
      "execution_count": 16,
      "outputs": [
        {
          "output_type": "stream",
          "name": "stdout",
          "text": [
            "0\n",
            "1\n",
            "2\n",
            "3\n",
            "4\n",
            "5\n"
          ]
        }
      ]
    },
    {
      "cell_type": "markdown",
      "source": [
        "range()함수에 인자를 2개 넣으면, 첫시작 값과 끝 값이 정해진다"
      ],
      "metadata": {
        "id": "R2d2vkJZ6AzU"
      }
    },
    {
      "cell_type": "code",
      "source": [
        "for i in range(2, 6):\n",
        "  print(i)"
      ],
      "metadata": {
        "colab": {
          "base_uri": "https://localhost:8080/"
        },
        "id": "4-ZIVnkA5_4l",
        "outputId": "dd91bccc-8d26-4c78-eb58-f8a10e276b65"
      },
      "execution_count": 18,
      "outputs": [
        {
          "output_type": "stream",
          "name": "stdout",
          "text": [
            "2\n",
            "3\n",
            "4\n",
            "5\n"
          ]
        }
      ]
    },
    {
      "cell_type": "markdown",
      "source": [
        "range()함수에 인자를 3개 넣으면, 첫시작 값과 끝 값과 간격이 정해진다."
      ],
      "metadata": {
        "id": "uBpZmart6Q-8"
      }
    },
    {
      "cell_type": "code",
      "source": [
        "for i in range(2, 30, 3):\n",
        "  print(i)"
      ],
      "metadata": {
        "colab": {
          "base_uri": "https://localhost:8080/"
        },
        "id": "T5MTRr0v6Okn",
        "outputId": "d145a610-5924-44bf-86c0-66b06510efdf"
      },
      "execution_count": 20,
      "outputs": [
        {
          "output_type": "stream",
          "name": "stdout",
          "text": [
            "2\n",
            "5\n",
            "8\n",
            "11\n",
            "14\n",
            "17\n",
            "20\n",
            "23\n",
            "26\n",
            "29\n"
          ]
        }
      ]
    },
    {
      "cell_type": "markdown",
      "source": [
        "else: 를 붙혀서, for문이 종료되면 한번 실행되는 print문이 실행된다."
      ],
      "metadata": {
        "id": "qpC7zrBX6vXA"
      }
    },
    {
      "cell_type": "code",
      "source": [
        "for i in range(6):\n",
        "  print(i)\n",
        "else:\n",
        "  print(\"for문 종료됨!\")"
      ],
      "metadata": {
        "colab": {
          "base_uri": "https://localhost:8080/"
        },
        "id": "G64adAkB6WMU",
        "outputId": "1cd0a7a9-e922-436c-bb55-e4a963b54a3a"
      },
      "execution_count": 23,
      "outputs": [
        {
          "output_type": "stream",
          "name": "stdout",
          "text": [
            "0\n",
            "1\n",
            "2\n",
            "3\n",
            "4\n",
            "5\n",
            "마침내 끝남!\n"
          ]
        }
      ]
    },
    {
      "cell_type": "markdown",
      "source": [
        "else: 를 붙혀도, 중간에 break를 만나 중단되었다면 print문이 실행되지 않는다."
      ],
      "metadata": {
        "id": "t-rhWyAv7Jq6"
      }
    },
    {
      "cell_type": "code",
      "source": [
        "for i in range(6):\n",
        "  if i == 3: break\n",
        "  print(i)\n",
        "else:\n",
        "  print(\"for문 종료됨!\")"
      ],
      "metadata": {
        "colab": {
          "base_uri": "https://localhost:8080/"
        },
        "id": "pSlOaRmp6_0H",
        "outputId": "45a1e97e-bafa-4551-a926-1c13eab8d0ca"
      },
      "execution_count": 25,
      "outputs": [
        {
          "output_type": "stream",
          "name": "stdout",
          "text": [
            "0\n",
            "1\n",
            "2\n"
          ]
        }
      ]
    },
    {
      "cell_type": "markdown",
      "source": [
        "이중 for문, 먼저써있는 adj가 기준이 되어 fruits에 대해 4번 반복되는것이 3번 진행됨"
      ],
      "metadata": {
        "id": "iVN5xFTe7jT1"
      }
    },
    {
      "cell_type": "code",
      "source": [
        "adj = [\"red\",\"big\",\"tasty\"]\n",
        "fruits = [\"apple\",\"banana\",\"cherry\",\"melon\"]\n",
        "\n",
        "for i in adj:\n",
        "  for j in fruits:\n",
        "    print(i,j)"
      ],
      "metadata": {
        "colab": {
          "base_uri": "https://localhost:8080/"
        },
        "id": "wojrAcmI7QEp",
        "outputId": "53571117-a44f-4863-a96f-a72778a5f3c1"
      },
      "execution_count": 29,
      "outputs": [
        {
          "output_type": "stream",
          "name": "stdout",
          "text": [
            "red apple\n",
            "red banana\n",
            "red cherry\n",
            "red melon\n",
            "big apple\n",
            "big banana\n",
            "big cherry\n",
            "big melon\n",
            "tasty apple\n",
            "tasty banana\n",
            "tasty cherry\n",
            "tasty melon\n"
          ]
        }
      ]
    },
    {
      "cell_type": "markdown",
      "source": [
        "내용이 빈 for문에는 pass를 채워줘야 오류가 안남"
      ],
      "metadata": {
        "id": "eT0yr3Uh8Axy"
      }
    },
    {
      "cell_type": "code",
      "source": [
        "for i in [0, 1, 2]:\n",
        "  pass"
      ],
      "metadata": {
        "id": "lrQ4Q1kR7TKy"
      },
      "execution_count": 31,
      "outputs": []
    }
  ]
}